{
 "cells": [
  {
   "cell_type": "code",
   "execution_count": 112,
   "metadata": {
    "colab": {
     "base_uri": "https://localhost:8080/"
    },
    "id": "vM1N9qc57_Gj",
    "outputId": "ca85f1ae-803e-4410-a97b-df172ecad919"
   },
   "outputs": [],
   "source": [
    "import torch\n",
    "import torch.nn as nn\n",
    "import torch.nn.functional as F\n",
    "import numpy as np\n",
    "from sklearn.metrics import accuracy_score\n",
    "from sklearn.model_selection import train_test_split\n",
    "import pandas as pd\n",
    "from tqdm import tqdm\n",
    "from torch.utils.data import Dataset, DataLoader"
   ]
  },
  {
   "cell_type": "code",
   "execution_count": 113,
   "metadata": {
    "colab": {
     "base_uri": "https://localhost:8080/"
    },
    "id": "vM1N9qc57_Gj",
    "outputId": "ca85f1ae-803e-4410-a97b-df172ecad919"
   },
   "outputs": [
    {
     "data": {
      "text/html": [
       "<div>\n",
       "<style scoped>\n",
       "    .dataframe tbody tr th:only-of-type {\n",
       "        vertical-align: middle;\n",
       "    }\n",
       "\n",
       "    .dataframe tbody tr th {\n",
       "        vertical-align: top;\n",
       "    }\n",
       "\n",
       "    .dataframe thead th {\n",
       "        text-align: right;\n",
       "    }\n",
       "</style>\n",
       "<table border=\"1\" class=\"dataframe\">\n",
       "  <thead>\n",
       "    <tr style=\"text-align: right;\">\n",
       "      <th></th>\n",
       "      <th>x_1</th>\n",
       "      <th>x_2</th>\n",
       "      <th>y</th>\n",
       "      <th>cluster</th>\n",
       "    </tr>\n",
       "  </thead>\n",
       "  <tbody>\n",
       "    <tr>\n",
       "      <th>12092</th>\n",
       "      <td>-18.450681</td>\n",
       "      <td>21.895815</td>\n",
       "      <td>1</td>\n",
       "      <td>11</td>\n",
       "    </tr>\n",
       "    <tr>\n",
       "      <th>12513</th>\n",
       "      <td>-10.572193</td>\n",
       "      <td>-17.949003</td>\n",
       "      <td>1</td>\n",
       "      <td>13</td>\n",
       "    </tr>\n",
       "    <tr>\n",
       "      <th>15816</th>\n",
       "      <td>8.370830</td>\n",
       "      <td>1.037896</td>\n",
       "      <td>1</td>\n",
       "      <td>27</td>\n",
       "    </tr>\n",
       "    <tr>\n",
       "      <th>15112</th>\n",
       "      <td>7.283613</td>\n",
       "      <td>-28.892073</td>\n",
       "      <td>1</td>\n",
       "      <td>24</td>\n",
       "    </tr>\n",
       "    <tr>\n",
       "      <th>9927</th>\n",
       "      <td>-29.722763</td>\n",
       "      <td>-2.667414</td>\n",
       "      <td>1</td>\n",
       "      <td>3</td>\n",
       "    </tr>\n",
       "    <tr>\n",
       "      <th>16117</th>\n",
       "      <td>8.558161</td>\n",
       "      <td>8.207811</td>\n",
       "      <td>1</td>\n",
       "      <td>28</td>\n",
       "    </tr>\n",
       "    <tr>\n",
       "      <th>6167</th>\n",
       "      <td>8.904074</td>\n",
       "      <td>-30.253288</td>\n",
       "      <td>0</td>\n",
       "      <td>24</td>\n",
       "    </tr>\n",
       "    <tr>\n",
       "      <th>4082</th>\n",
       "      <td>-7.332921</td>\n",
       "      <td>9.193358</td>\n",
       "      <td>0</td>\n",
       "      <td>16</td>\n",
       "    </tr>\n",
       "    <tr>\n",
       "      <th>10330</th>\n",
       "      <td>-29.991235</td>\n",
       "      <td>9.765038</td>\n",
       "      <td>1</td>\n",
       "      <td>4</td>\n",
       "    </tr>\n",
       "    <tr>\n",
       "      <th>17251</th>\n",
       "      <td>19.654346</td>\n",
       "      <td>0.457855</td>\n",
       "      <td>1</td>\n",
       "      <td>33</td>\n",
       "    </tr>\n",
       "  </tbody>\n",
       "</table>\n",
       "</div>"
      ],
      "text/plain": [
       "             x_1        x_2  y  cluster\n",
       "12092 -18.450681  21.895815  1       11\n",
       "12513 -10.572193 -17.949003  1       13\n",
       "15816   8.370830   1.037896  1       27\n",
       "15112   7.283613 -28.892073  1       24\n",
       "9927  -29.722763  -2.667414  1        3\n",
       "16117   8.558161   8.207811  1       28\n",
       "6167    8.904074 -30.253288  0       24\n",
       "4082   -7.332921   9.193358  0       16\n",
       "10330 -29.991235   9.765038  1        4\n",
       "17251  19.654346   0.457855  1       33"
      ]
     },
     "execution_count": 113,
     "metadata": {},
     "output_type": "execute_result"
    }
   ],
   "source": [
    "########### Loading the dataset #############################\n",
    "\n",
    "data_normal = pd.read_csv(\"data_normal.csv\")\n",
    "data_normal.columns\n",
    "data_normal.sample(10)"
   ]
  },
  {
   "cell_type": "code",
   "execution_count": 133,
   "metadata": {
    "colab": {
     "base_uri": "https://localhost:8080/"
    },
    "id": "vM1N9qc57_Gj",
    "outputId": "ca85f1ae-803e-4410-a97b-df172ecad919"
   },
   "outputs": [],
   "source": [
    "class dataset(Dataset):\n",
    "    def __init__(self,x,y):\n",
    "        self.x = torch.tensor(x,dtype=torch.float32)\n",
    "        self.y = torch.tensor(y,dtype=torch.float32)\n",
    "        self.length = self.x.shape[0]\n",
    "\n",
    "    def __getitem__(self,idx):\n",
    "        return self.x[idx],self.y[idx]\n",
    "    def __len__(self):\n",
    "        return self.length\n",
    "\n",
    "\n",
    "X_train, X_test, y_train, y_test = train_test_split(np.array(data_normal[[\"x_1\", \"x_2\"]]), \n",
    "                                                    np.array(data_normal[\"y\"]), test_size=0.3, random_state=42)\n",
    "\n",
    "trainset = dataset(X_train, y_train)\n",
    "testset = dataset(X_test, y_test)\n",
    "\n",
    "#DataLoader\n",
    "trainloader = DataLoader(trainset,batch_size=64,shuffle=False)\n",
    "testloader = DataLoader(testset,batch_size=64,shuffle=False)"
   ]
  },
  {
   "cell_type": "code",
   "execution_count": 134,
   "metadata": {
    "colab": {
     "base_uri": "https://localhost:8080/"
    },
    "id": "vM1N9qc57_Gj",
    "outputId": "ca85f1ae-803e-4410-a97b-df172ecad919"
   },
   "outputs": [],
   "source": [
    "################## Define the model ###########################\n",
    "class LinearModel(nn.Module):\n",
    "    def __init__(self, input_size, hidden_size, out_size):\n",
    "        super(LinearModel, self).__init__()\n",
    "        self.fc1 = nn.Linear(input_size, 128)\n",
    "        self.b1 = nn.BatchNorm1d(128)\n",
    "        self.fc2 = nn.Linear(128, 64)\n",
    "        self.b2 = nn.BatchNorm1d(64)\n",
    "        self.fc3 = nn.Linear(64, 32)\n",
    "        self.b3 = nn.BatchNorm1d(32)\n",
    "        self.fc4 = nn.Linear(32, 16)\n",
    "        self.b4 = nn.BatchNorm1d(16)\n",
    "        self.fc5 = nn.Linear(16, 8)\n",
    "        self.b5 = nn.BatchNorm1d(8)\n",
    "        self.fc6 = nn.Linear(8, 1)\n",
    "        self.sig = nn.Sigmoid()\n",
    "        # self.relu = nn.ReLU()\n",
    "                           \n",
    "    def get_weights(self):\n",
    "        return self.weight\n",
    "    \n",
    "    def forward(self,x):\n",
    "        out = F.relu(self.fc1(x))\n",
    "        out = self.b1(out)\n",
    "        out = F.relu(self.fc2(out))\n",
    "        out = self.b2(out)\n",
    "        out = F.relu(self.fc3(out))\n",
    "        out = self.b3(out)\n",
    "        out = F.relu(self.fc4(out))\n",
    "        out = self.b4(out)\n",
    "        out = F.relu(self.fc5(out))\n",
    "        out = self.b5(out)\n",
    "        out = self.fc6(out)\n",
    "        # out = self.relu(out)\n",
    "        out = self.sig(out) #sigmoid as we use BCELoss\n",
    "        return out"
   ]
  },
  {
   "cell_type": "code",
   "execution_count": 135,
   "metadata": {
    "colab": {
     "base_uri": "https://localhost:8080/"
    },
    "id": "vM1N9qc57_Gj",
    "outputId": "ca85f1ae-803e-4410-a97b-df172ecad919"
   },
   "outputs": [],
   "source": [
    "######################### Hyper-parameters #########################\n",
    "input_size = 2\n",
    "hidden_size = 32\n",
    "out_size = 1 \n",
    "num_epochs = 5\n",
    "learning_rate = 0.001\n",
    "BATCH_SIZE_1 = 1\n",
    "\n",
    "model = LinearModel(input_size, hidden_size, out_size)\n",
    "criterion = nn.MSELoss()\n",
    "optimizer = torch.optim.Adam(model.parameters(), lr=learning_rate)"
   ]
  },
  {
   "cell_type": "code",
   "execution_count": 136,
   "metadata": {
    "colab": {
     "base_uri": "https://localhost:8080/"
    },
    "id": "vM1N9qc57_Gj",
    "outputId": "ca85f1ae-803e-4410-a97b-df172ecad919"
   },
   "outputs": [],
   "source": [
    "def train(model, train_loader, optimizer):\n",
    "    model.train()\n",
    "    y_true = []\n",
    "    y_pred = []\n",
    "    for i in tqdm(train_loader):\n",
    "        \n",
    "        data, target = i\n",
    " \n",
    "        # data, target = data.cuda(), target.cuda()\n",
    "       \n",
    "        #FORWARD PASS\n",
    "        output = model(data.float())\n",
    "        loss = criterion(output, target.unsqueeze(1)) \n",
    "        \n",
    "        #BACKWARD AND OPTIMIZE\n",
    "        optimizer.zero_grad()\n",
    "        loss.backward()\n",
    "        optimizer.step()\n",
    "        \n",
    "        # PREDICTIONS \n",
    "        pred = np.round(output.detach())\n",
    "        target = np.round(target.detach())             \n",
    "        y_pred.extend(pred.tolist())\n",
    "        y_true.extend(target.tolist())\n",
    "        \n",
    "    print(\"Accuracy on training set is\" ,         \n",
    "    accuracy_score(y_true,y_pred))"
   ]
  },
  {
   "cell_type": "code",
   "execution_count": 137,
   "metadata": {
    "colab": {
     "base_uri": "https://localhost:8080/"
    },
    "id": "vM1N9qc57_Gj",
    "outputId": "ca85f1ae-803e-4410-a97b-df172ecad919"
   },
   "outputs": [],
   "source": [
    "#TESTING THE MODEL\n",
    "def test(model, test_loader):\n",
    "    #model in eval mode skips Dropout etc\n",
    "    model.eval()\n",
    "    y_true = []\n",
    "    y_pred = []\n",
    "    \n",
    "    # set the requires_grad flag to false as we are in the test mode\n",
    "    with torch.no_grad():\n",
    "        for i in test_loader:\n",
    "            \n",
    "            #LOAD THE DATA IN A BATCH\n",
    "            data,target = i\n",
    "            \n",
    "            \n",
    "            # the model on the data\n",
    "            output = model(data.float())\n",
    "                       \n",
    "            #PREDICTIONS\n",
    "            pred = np.round(output)\n",
    "            target = target.float()\n",
    "            y_true.extend(target.tolist()) \n",
    "            y_pred.extend(pred.reshape(-1).tolist())\n",
    "    \n",
    "            \n",
    "    print(\"Accuracy on test set is\" , accuracy_score(y_true,y_pred))\n",
    "    print(\"***********************************************************\")"
   ]
  },
  {
   "cell_type": "code",
   "execution_count": 138,
   "metadata": {
    "colab": {
     "base_uri": "https://localhost:8080/"
    },
    "id": "vM1N9qc57_Gj",
    "outputId": "ca85f1ae-803e-4410-a97b-df172ecad919"
   },
   "outputs": [
    {
     "name": "stderr",
     "output_type": "stream",
     "text": [
      "100%|██████████| 197/197 [00:01<00:00, 101.98it/s]\n"
     ]
    },
    {
     "name": "stdout",
     "output_type": "stream",
     "text": [
      "Accuracy on training set is 0.5934920634920635\n",
      "Accuracy on test set is 0.6344444444444445\n",
      "***********************************************************\n"
     ]
    }
   ],
   "source": [
    "train(model, trainloader, optimizer)\n",
    "test(model, testloader)"
   ]
  },
  {
   "cell_type": "code",
   "execution_count": 139,
   "metadata": {},
   "outputs": [
    {
     "data": {
      "text/plain": [
       "(12600, 2)"
      ]
     },
     "execution_count": 139,
     "metadata": {},
     "output_type": "execute_result"
    }
   ],
   "source": [
    "X_train.shape"
   ]
  },
  {
   "cell_type": "code",
   "execution_count": 140,
   "metadata": {},
   "outputs": [
    {
     "name": "stdout",
     "output_type": "stream",
     "text": [
      "(12600, 3)\n"
     ]
    }
   ],
   "source": [
    "##### Include cluster id as input\n",
    "\n",
    "X_train, X_test, y_train, y_test = train_test_split(np.array(data_normal[[\"x_1\", \"x_2\", \"cluster\"]]), \n",
    "                                                    np.array(data_normal[\"y\"]), test_size=0.3, random_state=42)\n",
    "\n",
    "print(X_train.shape)\n",
    "trainset = dataset(X_train, y_train)\n",
    "testset = dataset(X_test, y_test)\n",
    "\n",
    "#DataLoader\n",
    "trainloader = DataLoader(trainset,batch_size=64,shuffle=False)\n",
    "testloader = DataLoader(testset,batch_size=64,shuffle=False)\n",
    "\n",
    "######################### Hyper-parameters #########################\n",
    "input_size = 3\n",
    "\n",
    "model = LinearModel(input_size, hidden_size, out_size)\n",
    "criterion = nn.BCELoss()\n",
    "optimizer = torch.optim.Adam(model.parameters(), lr=learning_rate)"
   ]
  },
  {
   "cell_type": "code",
   "execution_count": 141,
   "metadata": {},
   "outputs": [
    {
     "name": "stderr",
     "output_type": "stream",
     "text": [
      "100%|██████████| 197/197 [00:01<00:00, 98.68it/s] \n"
     ]
    },
    {
     "name": "stdout",
     "output_type": "stream",
     "text": [
      "Accuracy on training set is 0.6036507936507937\n",
      "Accuracy on test set is 0.6212962962962963\n",
      "***********************************************************\n"
     ]
    }
   ],
   "source": [
    "train(model, trainloader, optimizer)\n",
    "test(model, testloader)"
   ]
  },
  {
   "cell_type": "code",
   "execution_count": null,
   "metadata": {},
   "outputs": [],
   "source": []
  }
 ],
 "metadata": {
  "colab": {
   "collapsed_sections": [],
   "name": "model_baseline.ipynb",
   "provenance": []
  },
  "kernelspec": {
   "display_name": "Python 3",
   "language": "python",
   "name": "python3"
  },
  "language_info": {
   "codemirror_mode": {
    "name": "ipython",
    "version": 3
   },
   "file_extension": ".py",
   "mimetype": "text/x-python",
   "name": "python",
   "nbconvert_exporter": "python",
   "pygments_lexer": "ipython3",
   "version": "3.7.6"
  }
 },
 "nbformat": 4,
 "nbformat_minor": 1
}
